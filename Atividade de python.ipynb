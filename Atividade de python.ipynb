{
  "cells": [
    {
      "cell_type": "markdown",
      "metadata": {
        "id": "Fi7wHZJrbQLy"
      },
      "source": [
        "#1º Lista de Exercícios de Python"
      ]
    },
    {
      "cell_type": "code",
      "execution_count": 4,
      "metadata": {},
      "outputs": [],
      "source": [
        "# -*- coding: utf-8 -*-\n",
        "#Serve para habilitar caracteres no python"
      ]
    },
    {
      "cell_type": "markdown",
      "metadata": {
        "id": "sfPJ0Pwhc2Kq"
      },
      "source": [
        "1. Faça um Programa que mostre a mensagem \"Alô mundo!\" na tela."
      ]
    },
    {
      "cell_type": "code",
      "execution_count": 1,
      "metadata": {
        "colab": {
          "base_uri": "https://localhost:8080/"
        },
        "id": "7AT5CdkvbFuv",
        "outputId": "84ef0551-19d4-43b0-b8b4-0f066d1ec57a"
      },
      "outputs": [
        {
          "name": "stdout",
          "output_type": "stream",
          "text": [
            "Alo mundo!\n"
          ]
        }
      ],
      "source": [
        "print (\"Alo mundo!\")"
      ]
    },
    {
      "cell_type": "markdown",
      "metadata": {
        "id": "xX-vqgCZc8mH"
      },
      "source": [
        "2. Faça um Programa que peça um número e então mostre a mensagem `\"O número informado foi\n",
        "[número]”`."
      ]
    },
    {
      "cell_type": "code",
      "execution_count": 2,
      "metadata": {
        "colab": {
          "base_uri": "https://localhost:8080/"
        },
        "id": "RTUSW0fxejH9",
        "outputId": "e577ff07-2aec-4aa2-d1ba-782e41493d01"
      },
      "outputs": [
        {
          "name": "stdout",
          "output_type": "stream",
          "text": [
            "O número informado foi =  1\n"
          ]
        }
      ],
      "source": [
        "numero = input(\"Declare um número = \")\n",
        "print (\"O número informado foi = \", numero)"
      ]
    },
    {
      "cell_type": "markdown",
      "metadata": {
        "id": "tjakELh_eorn"
      },
      "source": [
        "3. Faça um Programa que peça dois números e imprima a soma."
      ]
    },
    {
      "cell_type": "code",
      "execution_count": null,
      "metadata": {
        "colab": {
          "base_uri": "https://localhost:8080/"
        },
        "id": "DPc3zkKzerxq",
        "outputId": "4974419f-1245-46e9-b6fc-badf576574eb"
      },
      "outputs": [
        {
          "name": "stdout",
          "output_type": "stream",
          "text": [
            "Declare o valor de x = 5\n",
            "Declare o valor de y = 5\n",
            "x + y =  10\n"
          ]
        }
      ],
      "source": [
        "x = int(input(\"Declare o valor de x = \"))\n",
        "y = int(input(\"Declare o valor de y = \"))\n",
        "print(\"x + y = \", x + y)"
      ]
    },
    {
      "cell_type": "markdown",
      "metadata": {
        "id": "jCkUqwM5exNN"
      },
      "source": [
        "4. Faça um Programa que receba 4 notas e mostre a média."
      ]
    },
    {
      "cell_type": "code",
      "execution_count": null,
      "metadata": {
        "colab": {
          "base_uri": "https://localhost:8080/"
        },
        "id": "QaeH92wle4kc",
        "outputId": "f0f6ac19-9a16-49f8-e69b-a9f683840433"
      },
      "outputs": [
        {
          "name": "stdout",
          "output_type": "stream",
          "text": [
            "A primeira nota e = 4\n",
            "A segunda nota e = 4\n",
            "A terceira nota e = 4\n",
            "A quarta nota e = 4\n",
            "A média obtida foi 4.0\n"
          ]
        }
      ],
      "source": [
        "nota_1 = float(input(\"A primeira nota é = \"))\n",
        "nota_2 = float(input(\"A segunda nota é = \"))\n",
        "nota_3 = float(input(\"A terceira nota é = \"))\n",
        "nota_4 = float(input(\"A quarta nota é = \"))\n",
        "print (\"A média obtida foi\", (nota_1 + nota_2 + nota_3 + nota_4) / 4)"
      ]
    },
    {
      "cell_type": "markdown",
      "metadata": {
        "id": "0BF4f7zde624"
      },
      "source": [
        "5. Faça um Programa que converta metros para centímetros."
      ]
    },
    {
      "cell_type": "code",
      "execution_count": null,
      "metadata": {
        "colab": {
          "base_uri": "https://localhost:8080/"
        },
        "id": "HosiHPERe7tD",
        "outputId": "e556029a-681a-4b64-d72f-4ca4a3794958"
      },
      "outputs": [
        {
          "name": "stdout",
          "output_type": "stream",
          "text": [
            "Digite a quantidade em metros = 5\n",
            "Convertendo para centimetros ficaria =  500.0\n"
          ]
        }
      ],
      "source": [
        "Metros = float(input(\"Digite a quantidade em metros = \"))\n",
        "print (\"Convertendo para centimetros ficaria = \", Metros * 100)"
      ]
    },
    {
      "cell_type": "markdown",
      "metadata": {
        "id": "X38fLrLgfCZl"
      },
      "source": [
        "6. Faça um Programa que peça o raio de um círculo, calcule e mostre sua área. Fórmula: `A = π * r²`"
      ]
    },
    {
      "cell_type": "code",
      "execution_count": 3,
      "metadata": {
        "colab": {
          "base_uri": "https://localhost:8080/"
        },
        "id": "Egxp2Mj3fDMB",
        "outputId": "c0af5427-49a5-47bd-a9fe-0dfd553c60d7"
      },
      "outputs": [
        {
          "name": "stdout",
          "output_type": "stream",
          "text": [
            "O valor do raio do circulo é = 2\n",
            "A área do raio é =  12.56\n"
          ]
        }
      ],
      "source": [
        "Raio = float(input(\"O valor do raio do circulo é = \"))\n",
        "PI = 3.14\n",
        "print (\"A área do raio é = \", PI * Raio**2 )"
      ]
    },
    {
      "cell_type": "markdown",
      "metadata": {
        "id": "ORy3P4L8fzyD"
      },
      "source": [
        "7. Faça um Programa que calcule a área de um quadrado, em seguida mostre o dobro desta\n",
        "área para o usuário."
      ]
    },
    {
      "cell_type": "code",
      "execution_count": null,
      "metadata": {
        "colab": {
          "base_uri": "https://localhost:8080/"
        },
        "id": "j0c7Un9lf3sz",
        "outputId": "3fdfbb2a-a946-4056-8c2d-4e59173adb7a"
      },
      "outputs": [
        {
          "name": "stdout",
          "output_type": "stream",
          "text": [
            "Digite o valor do lado do quadrado = 5\n",
            "A area do quadrado é =  25.0\n",
            "O dobro da area do quadrado seria =  50.0\n"
          ]
        }
      ],
      "source": [
        "lado_quadrado = float(input(\"O valor do lado do quadrado é = \"))\n",
        "area_quadrado = lado_quadrado **2\n",
        "print (\"A area do quadrado é = \", area_quadrado)\n",
        "print (\"O dobro da area do quadrado seria = \", area_quadrado *2)"
      ]
    },
    {
      "cell_type": "markdown",
      "metadata": {
        "id": "EwOwdb25f6Wn"
      },
      "source": [
        "8. Faça um Programa que calcule a área de um retângulo, em seguida mostre o dobro desta\n",
        "área para o usuário."
      ]
    },
    {
      "cell_type": "code",
      "execution_count": null,
      "metadata": {
        "colab": {
          "base_uri": "https://localhost:8080/"
        },
        "id": "UaEEhyV9f7-o",
        "outputId": "9e03448b-ded6-4808-cd96-f56b1f927ed1"
      },
      "outputs": [
        {
          "name": "stdout",
          "output_type": "stream",
          "text": [
            "Digite o valor da base do retangulo = 5\n",
            "Digite o valor da altura do retangulo = 5\n",
            "A area do retangulo e = 25.0\n",
            "O dobro da area do retangulo e = 50.0\n"
          ]
        }
      ],
      "source": [
        "base_retangulo = float(input(\"Digite o valor da base do retangulo = \"))\n",
        "altura_retangulo = float(input(\"Digite o valor da altura do retangulo = \"))\n",
        "print (\"A area do retangulo é =\", base_retangulo * altura_retangulo )\n",
        "print (\"O dobro da area do retangulo é =\", base_retangulo * altura_retangulo * 2)"
      ]
    },
    {
      "cell_type": "markdown",
      "metadata": {
        "id": "uJhKPDEWf_Ig"
      },
      "source": [
        "9. Faça um Programa que pergunte quanto você ganha por hora e o número de horas\n",
        "trabalhadas no mês. Calcule e mostre o total do seu salário no referido mês."
      ]
    },
    {
      "cell_type": "code",
      "execution_count": 4,
      "metadata": {
        "colab": {
          "base_uri": "https://localhost:8080/"
        },
        "id": "H5jOskbugAUe",
        "outputId": "164b4339-875f-4c5e-c3c7-3e151ebbe94b"
      },
      "outputs": [
        {
          "name": "stdout",
          "output_type": "stream",
          "text": [
            "Quando vc ganha p/ hr ? 5\n",
            "Quantas hrs trabalhadas vc tem no mês ? 10\n",
            "Você receberá 50.0 reais, nesse mês. \n"
          ]
        }
      ],
      "source": [
        "ganho_hr = float(input(\"Quando vc ganha p/ hr ? \"))\n",
        "trabalho_hr = float(input(\"Quantas hrs trabalhadas vc tem no mês ? \"))\n",
        "print (f\"Você receberá\", ganho_hr * trabalho_hr,\"reais, nesse mês. \")"
      ]
    },
    {
      "cell_type": "markdown",
      "metadata": {
        "id": "FJpmBMP3gOIf"
      },
      "source": [
        "10. Faça um programa que receba uma lista com NOME, IDADE e ESCOLARIDADE. Após isso, imprima cada um dos itens da lista em um Print diferente utilizando o seu índice na lista."
      ]
    },
    {
      "cell_type": "code",
      "execution_count": null,
      "metadata": {
        "colab": {
          "base_uri": "https://localhost:8080/"
        },
        "id": "pu6yPtM9geMw",
        "outputId": "7a9f04c5-ed01-4638-b792-daeb3f92444f"
      },
      "outputs": [
        {
          "name": "stdout",
          "output_type": "stream",
          "text": [
            "Seu nome e : joao\n",
            "Sua idade e : 23\n",
            "Sua escolaridade e : medio\n",
            "Nome : joao\n",
            "Idade : 23\n",
            "Escolaridade : medio\n"
          ]
        }
      ],
      "source": [
        "lista = [input(\"Seu nome é : \"), input(\"Sua idade é : \"), input(\"Sua escolaridade é : \")]\n",
        "print (\"Nome :\", lista[0])\n",
        "print (\"Idade :\",lista[1])\n",
        "print (\"Escolaridade :\",lista[2])"
      ]
    }
  ],
  "metadata": {
    "colab": {
      "collapsed_sections": [],
      "name": "Lista_Python_1.ipynb",
      "provenance": []
    },
    "interpreter": {
      "hash": "e02e02d7670f6bd7f68bc5386585ed716640f56837b64e90f5eeac0bb54ef466"
    },
    "kernelspec": {
      "display_name": "Python 3.10.2 64-bit",
      "language": "python",
      "name": "python3"
    },
    "language_info": {
      "codemirror_mode": {
        "name": "ipython",
        "version": 3
      },
      "file_extension": ".py",
      "mimetype": "text/x-python",
      "name": "python",
      "nbconvert_exporter": "python",
      "pygments_lexer": "ipython3",
      "version": "3.10.2"
    }
  },
  "nbformat": 4,
  "nbformat_minor": 0
}
